{
  "cells": [
    {
      "cell_type": "markdown",
      "metadata": {
        "id": "view-in-github",
        "colab_type": "text"
      },
      "source": [
        "<a href=\"https://colab.research.google.com/github/anmgomezmo/Advance_machine_learning_for_physics/blob/main/Hands_on/Hands_on_1.ipynb\" target=\"_parent\"><img src=\"https://colab.research.google.com/assets/colab-badge.svg\" alt=\"Open In Colab\"/></a>"
      ]
    },
    {
      "cell_type": "markdown",
      "metadata": {
        "id": "YyyX4TZwJbtl"
      },
      "source": [
        "# First HandsOn!\n",
        "\n",
        "In this HandsOn we will recap the basics of pyTorch with a simple classification task\n",
        "\n",
        "Slide for the day with the Task Description ([SLIDE](https://docs.google.com/presentation/d/1k5Ad5V_8sgvdTDyRzwxOhGObPCrzT_oXOlaZ8PjMGes/edit?usp=sharing))\n",
        "\n",
        "Jamboard for the day ([BOARD](https://jamboard.google.com/d/1ZCghO9LeJA2i7GUiNgP-pe2u4M9mCAIU3p2_Le4W510/edit?usp=sharing))\n",
        "\n",
        "At the end of the lesson, I will put them as a pdf on the github"
      ]
    },
    {
      "cell_type": "markdown",
      "metadata": {
        "id": "I391su2MJlDl"
      },
      "source": [
        "# Connect your drive!"
      ]
    },
    {
      "cell_type": "code",
      "execution_count": 1,
      "metadata": {
        "colab": {
          "base_uri": "https://localhost:8080/"
        },
        "id": "Wau6DMQEJcjs",
        "outputId": "23eee62d-abf4-4a5b-b791-9586fe8d7238"
      },
      "outputs": [
        {
          "output_type": "stream",
          "name": "stdout",
          "text": [
            "Mounted at /content/gdrive\n"
          ]
        }
      ],
      "source": [
        "from google.colab import drive\n",
        "drive.mount('/content/gdrive', force_remount=True)"
      ]
    },
    {
      "cell_type": "markdown",
      "metadata": {
        "id": "Qf1Cew79KiHO"
      },
      "source": [
        "# Go to the RiNNgs folder!\n",
        "\n",
        "Use the command \"cd\" to change directory:\n",
        "\n",
        "```\n",
        "cd \"directory\"\n",
        "```\n",
        "\n",
        "then use \"ls\" (list) to show the files in the folder\n",
        "\n",
        "## Are you in the correct directory ?"
      ]
    },
    {
      "cell_type": "code",
      "execution_count": 2,
      "metadata": {
        "colab": {
          "base_uri": "https://localhost:8080/"
        },
        "id": "vwd2o6R3K-3J",
        "outputId": "90552bbc-1731-4a19-e799-2c18577cc8df"
      },
      "outputs": [
        {
          "output_type": "stream",
          "name": "stdout",
          "text": [
            "/content/gdrive/MyDrive/RiNNgs\n"
          ]
        }
      ],
      "source": [
        "cd /content/gdrive/MyDrive/RiNNgs/"
      ]
    },
    {
      "cell_type": "markdown",
      "metadata": {
        "id": "o5tDwxJ4ODYH"
      },
      "source": [
        "# What's in the directory you are in ?"
      ]
    },
    {
      "cell_type": "code",
      "execution_count": 3,
      "metadata": {
        "colab": {
          "base_uri": "https://localhost:8080/"
        },
        "id": "4GLDEZpkMEEu",
        "outputId": "50423122-2c36-412a-ecf2-b4aaf3fe17e7"
      },
      "outputs": [
        {
          "output_type": "stream",
          "name": "stdout",
          "text": [
            "\u001b[0m\u001b[01;34mdata\u001b[0m/  \u001b[01;34mresults\u001b[0m/\n"
          ]
        }
      ],
      "source": [
        "ls"
      ]
    },
    {
      "cell_type": "code",
      "execution_count": 4,
      "metadata": {
        "colab": {
          "base_uri": "https://localhost:8080/"
        },
        "id": "e8YVqhkIOKZO",
        "outputId": "73b67742-8565-44ea-ff40-1591ac34ae99"
      },
      "outputs": [
        {
          "output_type": "stream",
          "name": "stdout",
          "text": [
            "--2024-03-10 17:07:55--  https://raw.githubusercontent.com/stefanogiagu/corso_AML_2023/main/notebooks/es1/data_preprocess.py\n",
            "Resolving raw.githubusercontent.com (raw.githubusercontent.com)... 185.199.111.133, 185.199.108.133, 185.199.109.133, ...\n",
            "Connecting to raw.githubusercontent.com (raw.githubusercontent.com)|185.199.111.133|:443... connected.\n",
            "HTTP request sent, awaiting response... 200 OK\n",
            "Length: 14603 (14K) [text/plain]\n",
            "Saving to: ‘data_preprocess.py’\n",
            "\n",
            "\rdata_preprocess.py    0%[                    ]       0  --.-KB/s               \rdata_preprocess.py  100%[===================>]  14.26K  --.-KB/s    in 0.004s  \n",
            "\n",
            "2024-03-10 17:07:55 (3.39 MB/s) - ‘data_preprocess.py’ saved [14603/14603]\n",
            "\n"
          ]
        }
      ],
      "source": [
        "# We need to get some files from github\n",
        "\n",
        "import os\n",
        "success = os.path.exists(\"./data_preprocess.py\")\n",
        "\n",
        "if not success:\n",
        "  ! wget https://raw.githubusercontent.com/stefanogiagu/corso_AML_2023/main/notebooks/es1/data_preprocess.py"
      ]
    },
    {
      "cell_type": "code",
      "execution_count": 5,
      "metadata": {
        "colab": {
          "base_uri": "https://localhost:8080/"
        },
        "id": "tS4fT65yPCdM",
        "outputId": "852ab937-8f77-4718-fb73-c43b461c831d"
      },
      "outputs": [
        {
          "output_type": "stream",
          "name": "stdout",
          "text": [
            "\u001b[0m\u001b[01;34mdata\u001b[0m/  data_preprocess.py  \u001b[01;34mresults\u001b[0m/\n"
          ]
        }
      ],
      "source": [
        "ls"
      ]
    },
    {
      "cell_type": "markdown",
      "metadata": {
        "id": "Qi2H9Au7PXSD"
      },
      "source": [
        "# Lets create all the folders needed"
      ]
    },
    {
      "cell_type": "code",
      "execution_count": 6,
      "metadata": {
        "id": "TZhPnyXGPTZL"
      },
      "outputs": [],
      "source": [
        "import os\n",
        "\n",
        "def CreateDir(path):\n",
        "  # Create a directory if it does not exist\n",
        "  success = os.path.exists(path)\n",
        "  if not success:\n",
        "    os.makedirs(path)\n",
        "\n",
        "CreateDir(\"results\")\n",
        "CreateDir(\"results/display\")\n",
        "CreateDir(\"results/preprocess\")\n",
        "CreateDir(\"data\")"
      ]
    },
    {
      "cell_type": "code",
      "execution_count": 9,
      "metadata": {
        "id": "MKjKC96qQPLZ",
        "colab": {
          "base_uri": "https://localhost:8080/"
        },
        "outputId": "4f170aa9-9632-424d-df7f-1791572c111d"
      },
      "outputs": [
        {
          "output_type": "stream",
          "name": "stdout",
          "text": [
            "--2024-03-10 17:11:07--  https://raw.githubusercontent.com/stefanogiagu/corso_AML_2023/main/notebooks/es1/data/event_08011.file\n",
            "Resolving raw.githubusercontent.com (raw.githubusercontent.com)... 185.199.108.133, 185.199.109.133, 185.199.110.133, ...\n",
            "Connecting to raw.githubusercontent.com (raw.githubusercontent.com)|185.199.108.133|:443... connected.\n",
            "HTTP request sent, awaiting response... 200 OK\n",
            "Length: 375770 (367K) [application/octet-stream]\n",
            "Saving to: ‘data/event_08011.file’\n",
            "\n",
            "event_08011.file    100%[===================>] 366.96K  --.-KB/s    in 0.01s   \n",
            "\n",
            "2024-03-10 17:11:07 (24.3 MB/s) - ‘data/event_08011.file’ saved [375770/375770]\n",
            "\n",
            "--2024-03-10 17:11:07--  https://raw.githubusercontent.com/stefanogiagu/corso_AML_2023/main/notebooks/es1/data/RICH_map_corr_2017.data\n",
            "Resolving raw.githubusercontent.com (raw.githubusercontent.com)... 185.199.111.133, 185.199.108.133, 185.199.109.133, ...\n",
            "Connecting to raw.githubusercontent.com (raw.githubusercontent.com)|185.199.111.133|:443... connected.\n",
            "HTTP request sent, awaiting response... 200 OK\n",
            "Length: 38897 (38K) [text/plain]\n",
            "Saving to: ‘data/RICH_map_corr_2017.data’\n",
            "\n",
            "RICH_map_corr_2017. 100%[===================>]  37.99K  --.-KB/s    in 0.003s  \n",
            "\n",
            "2024-03-10 17:11:07 (13.0 MB/s) - ‘data/RICH_map_corr_2017.data’ saved [38897/38897]\n",
            "\n",
            "--2024-03-10 17:11:07--  https://raw.githubusercontent.com/stefanogiagu/corso_AML_2023/main/notebooks/es1/data/data_08011.json\n",
            "Resolving raw.githubusercontent.com (raw.githubusercontent.com)... 185.199.108.133, 185.199.109.133, 185.199.111.133, ...\n",
            "Connecting to raw.githubusercontent.com (raw.githubusercontent.com)|185.199.108.133|:443... connected.\n",
            "HTTP request sent, awaiting response... 200 OK\n",
            "Length: 2992001 (2.9M) [text/plain]\n",
            "Saving to: ‘data/data_08011.json’\n",
            "\n",
            "data_08011.json     100%[===================>]   2.85M  --.-KB/s    in 0.06s   \n",
            "\n",
            "2024-03-10 17:11:08 (51.1 MB/s) - ‘data/data_08011.json’ saved [2992001/2992001]\n",
            "\n"
          ]
        }
      ],
      "source": [
        "success = os.path.exists(\"data/event_08011.file\")\n",
        "\n",
        "if not success:\n",
        "  ! wget  https://raw.githubusercontent.com/stefanogiagu/corso_AML_2023/main/notebooks/es1/data/event_08011.file -P data/\n",
        "  ! wget -P data/ https://raw.githubusercontent.com/stefanogiagu/corso_AML_2023/main/notebooks/es1/data/RICH_map_corr_2017.data\n",
        "  ! wget -P data/ https://raw.githubusercontent.com/stefanogiagu/corso_AML_2023/main/notebooks/es1/data/data_08011.json"
      ]
    },
    {
      "cell_type": "markdown",
      "source": [
        "# We need to build the dataset\n",
        "\n",
        "How can we call a python code from a notebook script ?\n",
        "\n",
        "Use the command:\n",
        "\n",
        "```\n",
        "! python script.py ARG1, ARG2, ..., ARGN\n",
        "```\n",
        "\n",
        "to call the \"data_preprocess.py\" that will find the run 0811 and form 16x16 images from it.\n",
        "\n",
        "Arguments are \"08011 Conv 16 np_reco 0\"\n",
        "\n",
        "**Ignore all the warnings and the tensorflow calls. This function is doing a lot more than what we need.**"
      ],
      "metadata": {
        "id": "_XqnfTsFWh6C"
      }
    },
    {
      "cell_type": "code",
      "source": [
        "! python data_preprocess.py 08011 Conv 16 np_reco 0"
      ],
      "metadata": {
        "colab": {
          "base_uri": "https://localhost:8080/"
        },
        "id": "aQkGxKhFVhif",
        "outputId": "60bae67f-f521-400d-a78c-16600a647a93"
      },
      "execution_count": 10,
      "outputs": [
        {
          "output_type": "stream",
          "name": "stdout",
          "text": [
            "2024-03-10 17:19:10.986425: E external/local_xla/xla/stream_executor/cuda/cuda_dnn.cc:9261] Unable to register cuDNN factory: Attempting to register factory for plugin cuDNN when one has already been registered\n",
            "2024-03-10 17:19:10.986503: E external/local_xla/xla/stream_executor/cuda/cuda_fft.cc:607] Unable to register cuFFT factory: Attempting to register factory for plugin cuFFT when one has already been registered\n",
            "2024-03-10 17:19:10.988045: E external/local_xla/xla/stream_executor/cuda/cuda_blas.cc:1515] Unable to register cuBLAS factory: Attempting to register factory for plugin cuBLAS when one has already been registered\n",
            "2024-03-10 17:19:10.996617: I tensorflow/core/platform/cpu_feature_guard.cc:182] This TensorFlow binary is optimized to use available CPU instructions in performance-critical operations.\n",
            "To enable the following instructions: AVX2 FMA, in other operations, rebuild TensorFlow with the appropriate compiler flags.\n",
            "2024-03-10 17:19:12.392396: W tensorflow/compiler/tf2tensorrt/utils/py_utils.cc:38] TF-TRT Warning: Could not find TensorRT\n",
            "*************************\n",
            "*  Data Pre-Processing  *\n",
            "*************************\n",
            "Dataset = 08011\n",
            "Model   = Conv\n",
            "Size    = 16\n",
            "Label   = np_reco\n",
            "Shuffle = 0\n",
            "Getting data for label np_reco\n",
            "Loading data/data_08011.json\n",
            " 20000 items in list hitlist\n",
            " 20000 items in list np_track\n",
            " 20000 items in list np_reco\n",
            " 20000 items in list np_gpu\n",
            " 20000 items in list ne_eop\n",
            " 20000 items in list ne_track\n",
            " 20000 items in list ne_reco\n",
            " 20000 items in list ne_gpu\n",
            "Processing selected label (np_reco)\n",
            "Example data\n",
            "*************\n",
            "Event      0\n",
            "*************\n",
            "   hitlist: ['1499', '1308', '1384', '1026', '1956', '1990', '1685', '1710', '310', '305', '177', '136', '244', '37', '79', '776', '718', '667', '670', '711', '713', '716', '747', '753', '748', '754', '751', '568', '569', '574', '636', '571', '594', '599', '631', '1458']\n",
            "  np_track: 1\n",
            "   np_reco: 2\n",
            "    np_gpu: -1\n",
            "    ne_eop: 0\n",
            "  ne_track: 2\n",
            "   ne_reco: 1\n",
            "    ne_gpu: -1\n",
            "Array\n",
            "[1499. 1308. 1384. 1026. 1956. 1990. 1685. 1710.  310.  305.  177.  136.\n",
            "  244.   37.   79.  776.  718.  667.  670.  711.  713.  716.  747.  753.\n",
            "  748.  754.  751.  568.  569.  574.  636.  571.  594.  599.  631. 1458.\n",
            "    0.    0.    0.    0.    0.    0.    0.    0.    0.    0.    0.    0.\n",
            "    0.    0.    0.    0.    0.    0.    0.    0.    0.    0.    0.    0.\n",
            "    0.    0.    0.    0.]\n",
            "Feature preprocessed\n",
            "[1499. 1308. 1384. 1026. 1956. 1990. 1685. 1710.  310.  305.  177.  136.\n",
            "  244.   37.   79.  776.  718.  667.  670.  711.  713.  716.  747.  753.\n",
            "  748.  754.  751.  568.  569.  574.  636.  571.  594.  599.  631. 1458.\n",
            "    0.    0.    0.    0.    0.    0.    0.    0.    0.    0.    0.    0.\n",
            "    0.    0.    0.    0.    0.    0.    0.    0.    0.    0.    0.    0.\n",
            "    0.    0.    0.    0.]\n",
            "<class 'numpy.ndarray'>\n",
            "(20000, 64)\n",
            "<class 'numpy.ndarray'>\n",
            "(20000, 4)\n",
            "X_SHAPE\n",
            "(20000, 64)\n",
            "X_SHAPE[0]\n",
            "20000\n",
            "Y_SHAPE\n",
            "(20000, 4)\n",
            "Preprocessing data from dataset 08011 for model Convof size  16\n",
            "Image 16 x 16  = 256 pixels\n",
            "X  max 150.050  min -493.980  range 644.030 bin 40.252 \n",
            "Y  max 286.740  min -316.140  range 602.880 bin 37.680 \n",
            "FILE MAP: data/RICH_map_corr_2017.data\n",
            "[ 114.05  105.05  114.05 ... -484.98 -493.98  -79.98]\n",
            "[ 135.92  120.34  104.75 ...  -87.38 -102.97 -102.97]\n",
            "[   0    1    2 ... 2022 2023 2031]\n",
            "[0.94410198 0.93012748 0.94410198 ... 0.0139745  0.         0.6428272 ]\n",
            "[0.74983413 0.72399151 0.6981323  ... 0.37944533 0.35358612 0.35358612]\n",
            "[14 14 14 ... -1 -1 -1]\n",
            "[11 11 10 ... -1 -1 -1]\n",
            "Imager map ready at results/display/imagerMap_human.txt (human format)\n",
            "Imager map ready at results/display/imagerMap.txt (computer format)\n",
            "processing image      0\n",
            "Images shape:\n",
            "(16, 16)\n",
            "Number of images:\n",
            "20000\n",
            "File results/preprocess/prova16.pdf ready\n",
            "Imager statistics ready at results/display/imagerCounts.txt\n",
            "Validation: X=(20000, 16, 16), y=(20000, 4)\n",
            "Data saved in results/preprocess/\n"
          ]
        }
      ]
    },
    {
      "cell_type": "markdown",
      "source": [
        "# Where are our files ?\n",
        "\n",
        "The script will write two files in the \"results/preprocess\" folder that we created before.\n",
        "\n",
        "Check if you can find the files and that *x_all_** is the rigth size (around 40 Mb)\n",
        "\n",
        "Use the command:\n",
        "\n",
        "```\n",
        "ls -lh \"path\"\n",
        "```"
      ],
      "metadata": {
        "id": "8monx0SwYTR5"
      }
    },
    {
      "cell_type": "code",
      "source": [
        "ls -lh results/preprocess/"
      ],
      "metadata": {
        "colab": {
          "base_uri": "https://localhost:8080/"
        },
        "id": "9Zqp73XnYByt",
        "outputId": "3aeed481-ab75-4578-890d-e9b4f0f61efc"
      },
      "execution_count": 11,
      "outputs": [
        {
          "output_type": "stream",
          "name": "stdout",
          "text": [
            "total 40M\n",
            "-rw------- 1 root root  82K Mar 10 17:19 prova16.pdf\n",
            "-rw------- 1 root root  40M Mar 10 17:19 x_all_08011.npy\n",
            "-rw------- 1 root root 313K Mar 10 17:19 y_all_08011.npy\n"
          ]
        }
      ]
    },
    {
      "cell_type": "markdown",
      "source": [
        "# Read the data, check the data format, print an element\n",
        "\n",
        "*   Load the data with np.load\n",
        "*   Print the data shape\n",
        "*   Check the variable type\n",
        "*   Use plt.matshow() to print an element"
      ],
      "metadata": {
        "id": "gYpuE_LWZUMX"
      }
    },
    {
      "cell_type": "code",
      "source": [
        "import numpy as np\n",
        "\n",
        "dataset = \"08011\"\n",
        "x_all = np.load('results/preprocess/' + 'x_all_{}.npy'.format(dataset))\n",
        "y_all = np.load('results/preprocess/' + 'y_all_{}.npy'.format(dataset))"
      ],
      "metadata": {
        "id": "bPMuRT6AZCD3"
      },
      "execution_count": 12,
      "outputs": []
    },
    {
      "cell_type": "code",
      "source": [
        "# Print info about the dataset\n",
        "print(x_all.shape)\n",
        "type(x_all[0,0,0])"
      ],
      "metadata": {
        "colab": {
          "base_uri": "https://localhost:8080/"
        },
        "id": "82W9zbM-aO6d",
        "outputId": "daaf6c95-470f-466f-bffc-e0bcf5f20f6e"
      },
      "execution_count": 15,
      "outputs": [
        {
          "output_type": "stream",
          "name": "stdout",
          "text": [
            "(20000, 16, 16)\n"
          ]
        },
        {
          "output_type": "execute_result",
          "data": {
            "text/plain": [
              "numpy.float64"
            ]
          },
          "metadata": {},
          "execution_count": 15
        }
      ]
    },
    {
      "cell_type": "code",
      "source": [
        "import matplotlib.pyplot as plt\n",
        "\n",
        "to_plot = 10\n",
        "def plot_example(image,lab):\n",
        "  f,ax = plt.subplots(1,1,figsize=(5,5))\n",
        "  ax.matshow(image)\n",
        "  ax.set_title(\"An example of class {}\".format(np.argmax(lab)), fontsize=30)\n",
        "  print(np.unique(image))\n",
        "plot_example(x_all[to_plot,:,:], y_all[to_plot])"
      ],
      "metadata": {
        "colab": {
          "base_uri": "https://localhost:8080/",
          "height": 509
        },
        "id": "FFdETGdXaedi",
        "outputId": "a6e224bf-f00a-47c8-fb28-74545aa1e224"
      },
      "execution_count": 16,
      "outputs": [
        {
          "output_type": "stream",
          "name": "stdout",
          "text": [
            "[0. 1. 2.]\n"
          ]
        },
        {
          "output_type": "display_data",
          "data": {
            "text/plain": [
              "<Figure size 500x500 with 1 Axes>"
            ],
            "image/png": "[encoded data removed]"
          },
          "metadata": {}
        }
      ]
    },
    {
      "cell_type": "markdown",
      "source": [
        "# Plot a histogram of the average intensity per class\n",
        "\n",
        "## A trick:\n",
        "\n",
        "When you do this kind of data visualization, you are creating a lot of variables. If you wrap your code in a function you will keep the workspace clean."
      ],
      "metadata": {
        "id": "PO1XEAnydsNi"
      }
    },
    {
      "cell_type": "code",
      "source": [
        "def plot_histo(x_all, y_all):\n",
        "\n",
        "  classes = np.argmax(y_all, axis=1)\n",
        "\n",
        "  intensities = x_all.reshape(x_all.shape[0], -1).mean(axis=1) # [N of elements, 16*16] taking the average over the 2nd dim (axis=1)\n",
        "  print(\"This should be [N,1] : \", intensities.shape)\n",
        "\n",
        "  f,ax = plt.subplots(1,1,figsize=(8,8))\n",
        "  for c in [0,1,2,3]:\n",
        "    ax.hist(intensities[classes==c], 20, alpha=0.3, label=\"Class {}\".format(c), density=True)\n",
        "\n",
        "  ax.set_xlabel(\"Intensities\")\n",
        "  ax.legend()\n",
        "\n",
        "plot_histo(x_all,y_all)"
      ],
      "metadata": {
        "colab": {
          "base_uri": "https://localhost:8080/",
          "height": 713
        },
        "id": "AqzfUj5wboF_",
        "outputId": "f998eba3-baab-4008-eaff-d81eef025f20"
      },
      "execution_count": 17,
      "outputs": [
        {
          "output_type": "stream",
          "name": "stdout",
          "text": [
            "This should be [N,1] :  (20000,)\n"
          ]
        },
        {
          "output_type": "display_data",
          "data": {
            "text/plain": [
              "<Figure size 800x800 with 1 Axes>"
            ],
            "image/png": "[encoded data removed]"
          },
          "metadata": {}
        }
      ]
    },
    {
      "cell_type": "code",
      "source": [
        "# Remove the empty images\n",
        "def remove_empty(x_all,y_all):\n",
        "  intensities = x_all.reshape(x_all.shape[0],-1).sum(axis=1)\n",
        "  y_all = y_all[intensities > 0]\n",
        "  x_all = x_all[intensities > 0]\n",
        "  return x_all, y_all\n",
        "\n",
        "x_all, y_all = remove_empty(x_all, y_all)\n",
        "plot_histo(x_all, y_all)"
      ],
      "metadata": {
        "colab": {
          "base_uri": "https://localhost:8080/",
          "height": 713
        },
        "id": "qcWAEuL-iCg5",
        "outputId": "5d0d2c87-7d13-4e98-d92b-6311b94c6dac"
      },
      "execution_count": 18,
      "outputs": [
        {
          "output_type": "stream",
          "name": "stdout",
          "text": [
            "This should be [N,1] :  (18402,)\n"
          ]
        },
        {
          "output_type": "display_data",
          "data": {
            "text/plain": [
              "<Figure size 800x800 with 1 Axes>"
            ],
            "image/png": "[encoded data removed]"
          },
          "metadata": {}
        }
      ]
    },
    {
      "cell_type": "code",
      "source": [
        "def piechartclasses(y_all):\n",
        "  classes = np.argmax(y_all, axis=1)\n",
        "  c = np.unique(classes)\n",
        "  arr_c = [np.mean(classes==i) for i in c]\n",
        "\n",
        "  # Creating plot\n",
        "  fig = plt.figure(figsize=(10,7))\n",
        "  plt.pie(arr_c, labels=[\"0 rings\", \"1 ring\", \"2 rings\", \"3+ rings\"])\n",
        "\n",
        "  # Show plot\n",
        "  plt.title(\"Class distribution\", fontsize=20)\n",
        "  plt.show()\n",
        "\n",
        "piechartclasses(y_all)"
      ],
      "metadata": {
        "colab": {
          "base_uri": "https://localhost:8080/",
          "height": 606
        },
        "id": "NdB9MCn4jYdi",
        "outputId": "9cabe64b-2430-4c6d-a76d-a7169588e3cc"
      },
      "execution_count": 19,
      "outputs": [
        {
          "output_type": "display_data",
          "data": {
            "text/plain": [
              "<Figure size 1000x700 with 1 Axes>"
            ],
            "image/png": "[encoded data removed]"
          },
          "metadata": {}
        }
      ]
    },
    {
      "cell_type": "code",
      "source": [
        "class Parent(): # This is a class\n",
        "\n",
        "  def __init__(self):\n",
        "    self.name = None\n",
        "    self.introduction = \"Hi,son . \"\n",
        "\n",
        "  def give_name(self,name): # This is a method of Parent class\n",
        "    self.name = name\n",
        "\n",
        "  def speak(self):\n",
        "    if self.name is not None:\n",
        "      print(self.introduction + \"I am {}\".format(self.name))\n",
        "    else:\n",
        "      print(\"give name first\")\n",
        "\n",
        "class Child(Parent): # This is a child class. It has the same methods of Parent\n",
        "\n",
        "  def __init__(self): # Init is replaced. Everything is the same\n",
        "    self.name = None\n",
        "    self.introduction = \"Hi,Mama . \""
      ],
      "metadata": {
        "id": "k-TlMN-skxj1"
      },
      "execution_count": 20,
      "outputs": []
    },
    {
      "cell_type": "code",
      "source": [
        "mama = Parent() # Create a instance of class Parent\n",
        "mama.give_name(\"Marta\") # Use a method (give name is a \"function\" inside the class)\n",
        "son = Child() # Create a instance of class Child\n",
        "son.give_name(\"Andrea\") # We can use methods from the parent class\n",
        "\n",
        "mama.speak() # He can speak!\n",
        "son.speak() # He also can speak!"
      ],
      "metadata": {
        "colab": {
          "base_uri": "https://localhost:8080/"
        },
        "id": "MNrElkp8nGER",
        "outputId": "c050a7c5-987a-4d84-e6e1-8a9f2b564e22"
      },
      "execution_count": 21,
      "outputs": [
        {
          "output_type": "stream",
          "name": "stdout",
          "text": [
            "Hi,son . I am Marta\n",
            "Hi,Mama . I am Andrea\n"
          ]
        }
      ]
    },
    {
      "cell_type": "code",
      "source": [],
      "metadata": {
        "id": "4svoLMI5oKDV"
      },
      "execution_count": null,
      "outputs": []
    }
  ],
  "metadata": {
    "colab": {
      "provenance": [],
      "authorship_tag": "ABX9TyM/NWcIvU8S/YW/qKxCA9l8",
      "include_colab_link": true
    },
    "kernelspec": {
      "display_name": "Python 3",
      "name": "python3"
    },
    "language_info": {
      "name": "python"
    }
  },
  "nbformat": 4,
  "nbformat_minor": 0
}